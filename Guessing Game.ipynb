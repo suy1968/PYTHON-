{
 "cells": [
  {
   "cell_type": "code",
   "execution_count": 1,
   "id": "426177ec",
   "metadata": {},
   "outputs": [
    {
     "name": "stdout",
     "output_type": "stream",
     "text": [
      "Number guessing game\n",
      "Guess a number (between 1 and 9):\n",
      "Enter your guess:- 2\n",
      "Your guess was too high: Guess a number lower than 2\n",
      "Enter your guess:- 1\n",
      "Congratulation YOU WON!!!\n"
     ]
    }
   ],
   "source": [
    "import random\n",
    "\n",
    "print(\"Number guessing game\")\n",
    "\n",
    "# randint function to generate the random number between 1 to 9\n",
    "number = random.randint(1, 9)\n",
    "\n",
    "# number of chances to be given to the user to guess the number\n",
    "# or it is the inputs given by user into input box here number of chances are 5\n",
    "chances = 0\n",
    "\n",
    "print(\"Guess a number (between 1 and 9):\")\n",
    "\n",
    "# While loop to count the number of chances\n",
    "while chances < 5:\n",
    "\n",
    "    # Enter a number between 1 to 9\n",
    "    guess = int(input(\"Enter your guess:- \"))\n",
    "\n",
    "    # Compare the user entered number with the number to be guessed\n",
    "\n",
    "    if guess == number:\n",
    "        # if number entered by user is same as the generated\n",
    "        # number by randint function then break from loop using loop\n",
    "        # control statement \"break\"\n",
    "        print(\"Congratulation YOU WON!!!\")\n",
    "        break\n",
    "\n",
    "    # Check if the user entered number is smaller than the generated number\n",
    "    elif guess < number:\n",
    "        print(\"Your guess was too low: Guess a number higher than\", guess)\n",
    "\n",
    "    # The user entered number is greater than the generated number\n",
    "    else:\n",
    "        print(\"Your guess was too high: Guess a number lower than\", guess)\n",
    "\n",
    "    # Increase the value of chance by 1\n",
    "    chances += 1\n",
    "\n",
    "\n",
    "# Check whether the user guessed the correct number\n",
    "if not chances < 5:\n",
    "    print(\"YOU LOSE!!! The number is\", number)"
   ]
  },
  {
   "cell_type": "markdown",
   "id": "d63998c1",
   "metadata": {},
   "source": [
    "# THANK YOU"
   ]
  }
 ],
 "metadata": {
  "kernelspec": {
   "display_name": "Python 3 (ipykernel)",
   "language": "python",
   "name": "python3"
  },
  "language_info": {
   "codemirror_mode": {
    "name": "ipython",
    "version": 3
   },
   "file_extension": ".py",
   "mimetype": "text/x-python",
   "name": "python",
   "nbconvert_exporter": "python",
   "pygments_lexer": "ipython3",
   "version": "3.9.12"
  }
 },
 "nbformat": 4,
 "nbformat_minor": 5
}
